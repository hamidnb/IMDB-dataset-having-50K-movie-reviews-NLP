{
 "cells": [
  {
   "cell_type": "markdown",
   "id": "372dc77e",
   "metadata": {
    "papermill": {
     "duration": 0.010467,
     "end_time": "2025-03-02T10:53:54.891535",
     "exception": false,
     "start_time": "2025-03-02T10:53:54.881068",
     "status": "completed"
    },
    "tags": []
   },
   "source": [
    "### Data Handling & Importing Libraries ###"
   ]
  },
  {
   "cell_type": "code",
   "execution_count": 1,
   "id": "ff28c6cd",
   "metadata": {
    "execution": {
     "iopub.execute_input": "2025-03-02T10:53:54.913071Z",
     "iopub.status.busy": "2025-03-02T10:53:54.912465Z",
     "iopub.status.idle": "2025-03-02T10:54:05.779214Z",
     "shell.execute_reply": "2025-03-02T10:54:05.778024Z"
    },
    "papermill": {
     "duration": 10.879984,
     "end_time": "2025-03-02T10:54:05.781354",
     "exception": false,
     "start_time": "2025-03-02T10:53:54.901370",
     "status": "completed"
    },
    "tags": []
   },
   "outputs": [],
   "source": [
    "import numpy as np\n",
    "import pandas as pd\n",
    "import matplotlib.pyplot as plt\n",
    "from bs4 import BeautifulSoup\n",
    "import re, string\n",
    "from sklearn.feature_extraction.text import CountVectorizer\n",
    "from sklearn.svm import SVC\n",
    "from sklearn.linear_model import LogisticRegression\n",
    "from sklearn.neighbors import KNeighborsClassifier\n",
    "from sklearn.ensemble import RandomForestClassifier\n",
    "from sklearn.naive_bayes import MultinomialNB\n",
    "from sklearn.metrics import classification_report\n",
    "import nltk\n",
    "import spacy\n",
    "from nltk.corpus import stopwords\n",
    "from nltk.tokenize import word_tokenize\n",
    "import xgboost as xgb\n",
    "from sklearn.feature_extraction.text import TfidfVectorizer\n",
    "\n"
   ]
  },
  {
   "cell_type": "code",
   "execution_count": 2,
   "id": "ba71a2ac",
   "metadata": {
    "execution": {
     "iopub.execute_input": "2025-03-02T10:54:05.801786Z",
     "iopub.status.busy": "2025-03-02T10:54:05.801124Z",
     "iopub.status.idle": "2025-03-02T10:54:07.178145Z",
     "shell.execute_reply": "2025-03-02T10:54:07.176967Z"
    },
    "papermill": {
     "duration": 1.389516,
     "end_time": "2025-03-02T10:54:07.180324",
     "exception": false,
     "start_time": "2025-03-02T10:54:05.790808",
     "status": "completed"
    },
    "tags": []
   },
   "outputs": [],
   "source": [
    "df = pd.read_csv('/kaggle/input/imdb-dataset-of-50k-movie-reviews/IMDB Dataset.csv')"
   ]
  },
  {
   "cell_type": "code",
   "execution_count": 3,
   "id": "4737c108",
   "metadata": {
    "execution": {
     "iopub.execute_input": "2025-03-02T10:54:07.201868Z",
     "iopub.status.busy": "2025-03-02T10:54:07.201529Z",
     "iopub.status.idle": "2025-03-02T10:54:07.226923Z",
     "shell.execute_reply": "2025-03-02T10:54:07.225848Z"
    },
    "papermill": {
     "duration": 0.037835,
     "end_time": "2025-03-02T10:54:07.228570",
     "exception": false,
     "start_time": "2025-03-02T10:54:07.190735",
     "status": "completed"
    },
    "tags": []
   },
   "outputs": [
    {
     "data": {
      "text/html": [
       "<div>\n",
       "<style scoped>\n",
       "    .dataframe tbody tr th:only-of-type {\n",
       "        vertical-align: middle;\n",
       "    }\n",
       "\n",
       "    .dataframe tbody tr th {\n",
       "        vertical-align: top;\n",
       "    }\n",
       "\n",
       "    .dataframe thead th {\n",
       "        text-align: right;\n",
       "    }\n",
       "</style>\n",
       "<table border=\"1\" class=\"dataframe\">\n",
       "  <thead>\n",
       "    <tr style=\"text-align: right;\">\n",
       "      <th></th>\n",
       "      <th>review</th>\n",
       "      <th>sentiment</th>\n",
       "    </tr>\n",
       "  </thead>\n",
       "  <tbody>\n",
       "    <tr>\n",
       "      <th>0</th>\n",
       "      <td>One of the other reviewers has mentioned that ...</td>\n",
       "      <td>positive</td>\n",
       "    </tr>\n",
       "    <tr>\n",
       "      <th>1</th>\n",
       "      <td>A wonderful little production. &lt;br /&gt;&lt;br /&gt;The...</td>\n",
       "      <td>positive</td>\n",
       "    </tr>\n",
       "    <tr>\n",
       "      <th>2</th>\n",
       "      <td>I thought this was a wonderful way to spend ti...</td>\n",
       "      <td>positive</td>\n",
       "    </tr>\n",
       "    <tr>\n",
       "      <th>3</th>\n",
       "      <td>Basically there's a family where a little boy ...</td>\n",
       "      <td>negative</td>\n",
       "    </tr>\n",
       "    <tr>\n",
       "      <th>4</th>\n",
       "      <td>Petter Mattei's \"Love in the Time of Money\" is...</td>\n",
       "      <td>positive</td>\n",
       "    </tr>\n",
       "  </tbody>\n",
       "</table>\n",
       "</div>"
      ],
      "text/plain": [
       "                                              review sentiment\n",
       "0  One of the other reviewers has mentioned that ...  positive\n",
       "1  A wonderful little production. <br /><br />The...  positive\n",
       "2  I thought this was a wonderful way to spend ti...  positive\n",
       "3  Basically there's a family where a little boy ...  negative\n",
       "4  Petter Mattei's \"Love in the Time of Money\" is...  positive"
      ]
     },
     "execution_count": 3,
     "metadata": {},
     "output_type": "execute_result"
    }
   ],
   "source": [
    "df.head()"
   ]
  },
  {
   "cell_type": "code",
   "execution_count": 4,
   "id": "9d94e1aa",
   "metadata": {
    "execution": {
     "iopub.execute_input": "2025-03-02T10:54:07.248613Z",
     "iopub.status.busy": "2025-03-02T10:54:07.248181Z",
     "iopub.status.idle": "2025-03-02T10:54:07.264414Z",
     "shell.execute_reply": "2025-03-02T10:54:07.263338Z"
    },
    "papermill": {
     "duration": 0.027962,
     "end_time": "2025-03-02T10:54:07.266070",
     "exception": false,
     "start_time": "2025-03-02T10:54:07.238108",
     "status": "completed"
    },
    "tags": []
   },
   "outputs": [
    {
     "data": {
      "text/plain": [
       "sentiment\n",
       "positive    25000\n",
       "negative    25000\n",
       "Name: count, dtype: int64"
      ]
     },
     "execution_count": 4,
     "metadata": {},
     "output_type": "execute_result"
    }
   ],
   "source": [
    "df.sentiment.value_counts()"
   ]
  },
  {
   "cell_type": "code",
   "execution_count": 5,
   "id": "0f552bda",
   "metadata": {
    "execution": {
     "iopub.execute_input": "2025-03-02T10:54:07.287717Z",
     "iopub.status.busy": "2025-03-02T10:54:07.287268Z",
     "iopub.status.idle": "2025-03-02T10:54:13.996945Z",
     "shell.execute_reply": "2025-03-02T10:54:13.995472Z"
    },
    "papermill": {
     "duration": 6.722493,
     "end_time": "2025-03-02T10:54:13.999211",
     "exception": false,
     "start_time": "2025-03-02T10:54:07.276718",
     "status": "completed"
    },
    "tags": []
   },
   "outputs": [
    {
     "name": "stdout",
     "output_type": "stream",
     "text": [
      "Collecting symspellpy\r\n",
      "  Downloading symspellpy-6.7.8-py3-none-any.whl.metadata (3.9 kB)\r\n",
      "Collecting editdistpy>=0.1.3 (from symspellpy)\r\n",
      "  Downloading editdistpy-0.1.5-cp310-cp310-manylinux_2_5_x86_64.manylinux1_x86_64.manylinux_2_17_x86_64.manylinux2014_x86_64.whl.metadata (7.9 kB)\r\n",
      "Downloading symspellpy-6.7.8-py3-none-any.whl (2.6 MB)\r\n",
      "\u001b[2K   \u001b[90m━━━━━━━━━━━━━━━━━━━━━━━━━━━━━━━━━━━━━━━━\u001b[0m \u001b[32m2.6/2.6 MB\u001b[0m \u001b[31m54.0 MB/s\u001b[0m eta \u001b[36m0:00:00\u001b[0m\r\n",
      "\u001b[?25hDownloading editdistpy-0.1.5-cp310-cp310-manylinux_2_5_x86_64.manylinux1_x86_64.manylinux_2_17_x86_64.manylinux2014_x86_64.whl (144 kB)\r\n",
      "\u001b[2K   \u001b[90m━━━━━━━━━━━━━━━━━━━━━━━━━━━━━━━━━━━━━━━━\u001b[0m \u001b[32m144.1/144.1 kB\u001b[0m \u001b[31m9.2 MB/s\u001b[0m eta \u001b[36m0:00:00\u001b[0m\r\n",
      "\u001b[?25hInstalling collected packages: editdistpy, symspellpy\r\n",
      "Successfully installed editdistpy-0.1.5 symspellpy-6.7.8\r\n"
     ]
    }
   ],
   "source": [
    "!pip install symspellpy\n"
   ]
  },
  {
   "cell_type": "markdown",
   "id": "ef9835d5",
   "metadata": {
    "papermill": {
     "duration": 0.01001,
     "end_time": "2025-03-02T10:54:14.019399",
     "exception": false,
     "start_time": "2025-03-02T10:54:14.009389",
     "status": "completed"
    },
    "tags": []
   },
   "source": [
    "# STEP 1\n",
    "### Text Preprocessing ###"
   ]
  },
  {
   "cell_type": "markdown",
   "id": "9f40ce2c",
   "metadata": {
    "papermill": {
     "duration": 0.01232,
     "end_time": "2025-03-02T10:54:14.042063",
     "exception": false,
     "start_time": "2025-03-02T10:54:14.029743",
     "status": "completed"
    },
    "tags": []
   },
   "source": [
    "### 1.1 lowercasing ###"
   ]
  },
  {
   "cell_type": "code",
   "execution_count": 6,
   "id": "4baed201",
   "metadata": {
    "execution": {
     "iopub.execute_input": "2025-03-02T10:54:14.065687Z",
     "iopub.status.busy": "2025-03-02T10:54:14.064954Z",
     "iopub.status.idle": "2025-03-02T10:54:14.250844Z",
     "shell.execute_reply": "2025-03-02T10:54:14.249699Z"
    },
    "papermill": {
     "duration": 0.200092,
     "end_time": "2025-03-02T10:54:14.252844",
     "exception": false,
     "start_time": "2025-03-02T10:54:14.052752",
     "status": "completed"
    },
    "tags": []
   },
   "outputs": [],
   "source": [
    "df['review'] = df['review'].str.lower()"
   ]
  },
  {
   "cell_type": "markdown",
   "id": "90cefd9f",
   "metadata": {
    "papermill": {
     "duration": 0.0101,
     "end_time": "2025-03-02T10:54:14.273295",
     "exception": false,
     "start_time": "2025-03-02T10:54:14.263195",
     "status": "completed"
    },
    "tags": []
   },
   "source": [
    "### 1.2 Removing HTML Tags ###\n"
   ]
  },
  {
   "cell_type": "code",
   "execution_count": 7,
   "id": "d9b37e2b",
   "metadata": {
    "execution": {
     "iopub.execute_input": "2025-03-02T10:54:14.297780Z",
     "iopub.status.busy": "2025-03-02T10:54:14.297285Z",
     "iopub.status.idle": "2025-03-02T10:54:14.544900Z",
     "shell.execute_reply": "2025-03-02T10:54:14.543666Z"
    },
    "papermill": {
     "duration": 0.261497,
     "end_time": "2025-03-02T10:54:14.546759",
     "exception": false,
     "start_time": "2025-03-02T10:54:14.285262",
     "status": "completed"
    },
    "tags": []
   },
   "outputs": [],
   "source": [
    "def remove_html(text):\n",
    "    html = re.compile(\"<.*?>\")\n",
    "    return html.sub(r'', text)\n",
    "\n",
    "df['review'] = df['review'].apply(remove_html)\n"
   ]
  },
  {
   "cell_type": "markdown",
   "id": "a2b6bc65",
   "metadata": {
    "papermill": {
     "duration": 0.009728,
     "end_time": "2025-03-02T10:54:14.566681",
     "exception": false,
     "start_time": "2025-03-02T10:54:14.556953",
     "status": "completed"
    },
    "tags": []
   },
   "source": [
    "### 1.3 Removing URLs ###\n"
   ]
  },
  {
   "cell_type": "code",
   "execution_count": 8,
   "id": "c2131adb",
   "metadata": {
    "execution": {
     "iopub.execute_input": "2025-03-02T10:54:14.589063Z",
     "iopub.status.busy": "2025-03-02T10:54:14.588675Z",
     "iopub.status.idle": "2025-03-02T10:54:15.280472Z",
     "shell.execute_reply": "2025-03-02T10:54:15.279389Z"
    },
    "papermill": {
     "duration": 0.705588,
     "end_time": "2025-03-02T10:54:15.282418",
     "exception": false,
     "start_time": "2025-03-02T10:54:14.576830",
     "status": "completed"
    },
    "tags": []
   },
   "outputs": [],
   "source": [
    "def remove_URL(text):\n",
    "    URL = re.compile(r'https?://\\S+|www\\.\\S+')\n",
    "    return URL.sub(r'', text)\n",
    "\n",
    "df['review'] = df['review'].apply(remove_URL)\n"
   ]
  },
  {
   "cell_type": "markdown",
   "id": "aec65281",
   "metadata": {
    "papermill": {
     "duration": 0.010028,
     "end_time": "2025-03-02T10:54:15.302569",
     "exception": false,
     "start_time": "2025-03-02T10:54:15.292541",
     "status": "completed"
    },
    "tags": []
   },
   "source": [
    "### 1.4 Removing Punctuation ###"
   ]
  },
  {
   "cell_type": "code",
   "execution_count": 9,
   "id": "1e6428a8",
   "metadata": {
    "execution": {
     "iopub.execute_input": "2025-03-02T10:54:15.325231Z",
     "iopub.status.busy": "2025-03-02T10:54:15.324878Z",
     "iopub.status.idle": "2025-03-02T10:54:16.700527Z",
     "shell.execute_reply": "2025-03-02T10:54:16.699293Z"
    },
    "papermill": {
     "duration": 1.389821,
     "end_time": "2025-03-02T10:54:16.702470",
     "exception": false,
     "start_time": "2025-03-02T10:54:15.312649",
     "status": "completed"
    },
    "tags": []
   },
   "outputs": [],
   "source": [
    "punct = string.punctuation\n",
    "\n",
    "def remove_punctuation(text):\n",
    "    return text.translate(str.maketrans('', '', punct))\n",
    "\n",
    "df['review'] = df['review'].apply(remove_punctuation)\n"
   ]
  },
  {
   "cell_type": "markdown",
   "id": "a819f078",
   "metadata": {
    "papermill": {
     "duration": 0.009775,
     "end_time": "2025-03-02T10:54:16.722521",
     "exception": false,
     "start_time": "2025-03-02T10:54:16.712746",
     "status": "completed"
    },
    "tags": []
   },
   "source": [
    "### 1.5 Removing Emojis ###\n"
   ]
  },
  {
   "cell_type": "code",
   "execution_count": 10,
   "id": "4fcb9fbb",
   "metadata": {
    "execution": {
     "iopub.execute_input": "2025-03-02T10:54:16.744111Z",
     "iopub.status.busy": "2025-03-02T10:54:16.743723Z",
     "iopub.status.idle": "2025-03-02T10:54:18.992888Z",
     "shell.execute_reply": "2025-03-02T10:54:18.991584Z"
    },
    "papermill": {
     "duration": 2.262209,
     "end_time": "2025-03-02T10:54:18.994790",
     "exception": false,
     "start_time": "2025-03-02T10:54:16.732581",
     "status": "completed"
    },
    "tags": []
   },
   "outputs": [],
   "source": [
    "def remove_emoji(text):\n",
    "    emoji = re.compile(\n",
    "        r\"[\" \n",
    "        u\"\\U0001F600-\\U0001F64F\"  u\"\\U0001F300-\\U0001F5FF\"  u\"\\U0001F680-\\U0001F6FF\"  u\"\\U0001F1E0-\\U0001F1FF\"  \n",
    "        u\"\\U00002702-\\U000027B0\"  u\"\\U000024C2-\\U0001F251\"   u\"\\U0001D400-\\U0001D7FF\"  u\"\\U00020000-\\U0002A6DF\" \n",
    "        u\"\\U0001F000-\\U0001F02F\" \n",
    "        \"]+\", flags=re.UNICODE)\n",
    "    return emoji.sub(r'', text)\n",
    "\n",
    "df['review'] = df['review'].apply(remove_emoji)\n"
   ]
  },
  {
   "cell_type": "markdown",
   "id": "9b040f03",
   "metadata": {
    "papermill": {
     "duration": 0.010865,
     "end_time": "2025-03-02T10:54:19.016826",
     "exception": false,
     "start_time": "2025-03-02T10:54:19.005961",
     "status": "completed"
    },
    "tags": []
   },
   "source": [
    "### 1.6 Stopwords Removal ###"
   ]
  },
  {
   "cell_type": "code",
   "execution_count": 11,
   "id": "66d831bd",
   "metadata": {
    "execution": {
     "iopub.execute_input": "2025-03-02T10:54:19.039164Z",
     "iopub.status.busy": "2025-03-02T10:54:19.038803Z",
     "iopub.status.idle": "2025-03-02T11:25:48.433880Z",
     "shell.execute_reply": "2025-03-02T11:25:48.432611Z"
    },
    "papermill": {
     "duration": 1889.408865,
     "end_time": "2025-03-02T11:25:48.436213",
     "exception": false,
     "start_time": "2025-03-02T10:54:19.027348",
     "status": "completed"
    },
    "tags": []
   },
   "outputs": [],
   "source": [
    "nlp = spacy.load('en_core_web_sm')\n",
    "\n",
    "def remove_stopwords(text):\n",
    "    stop = nlp(text)\n",
    "    return ' '.join([token.text for token in stop if not token.is_stop])\n",
    "\n",
    "df['review'] = df['review'].apply(remove_stopwords)\n"
   ]
  },
  {
   "cell_type": "markdown",
   "id": "8d8fb526",
   "metadata": {
    "papermill": {
     "duration": 0.010064,
     "end_time": "2025-03-02T11:25:48.457934",
     "exception": false,
     "start_time": "2025-03-02T11:25:48.447870",
     "status": "completed"
    },
    "tags": []
   },
   "source": [
    "### 1.7 Lemmatization (using spaCy) ###"
   ]
  },
  {
   "cell_type": "code",
   "execution_count": 12,
   "id": "41a2e6c2",
   "metadata": {
    "execution": {
     "iopub.execute_input": "2025-03-02T11:25:48.480308Z",
     "iopub.status.busy": "2025-03-02T11:25:48.479879Z",
     "iopub.status.idle": "2025-03-02T11:43:14.560105Z",
     "shell.execute_reply": "2025-03-02T11:43:14.558970Z"
    },
    "papermill": {
     "duration": 1046.093883,
     "end_time": "2025-03-02T11:43:14.562231",
     "exception": false,
     "start_time": "2025-03-02T11:25:48.468348",
     "status": "completed"
    },
    "tags": []
   },
   "outputs": [],
   "source": [
    "def lemmatize_review(review):\n",
    "    doc = nlp(review)\n",
    "    lemmatized_words = [token.lemma_ for token in doc]\n",
    "    return \" \".join(lemmatized_words)\n",
    "\n",
    "df['review'] = df['review'].apply(lemmatize_review)\n"
   ]
  },
  {
   "cell_type": "markdown",
   "id": "788c741f",
   "metadata": {
    "papermill": {
     "duration": 0.009973,
     "end_time": "2025-03-02T11:43:14.583075",
     "exception": false,
     "start_time": "2025-03-02T11:43:14.573102",
     "status": "completed"
    },
    "tags": []
   },
   "source": [
    "### 1.8 Slang & Abbreviations Correction ###"
   ]
  },
  {
   "cell_type": "code",
   "execution_count": 13,
   "id": "098a0ef9",
   "metadata": {
    "execution": {
     "iopub.execute_input": "2025-03-02T11:43:14.607492Z",
     "iopub.status.busy": "2025-03-02T11:43:14.607056Z",
     "iopub.status.idle": "2025-03-02T11:45:24.718693Z",
     "shell.execute_reply": "2025-03-02T11:45:24.717593Z"
    },
    "papermill": {
     "duration": 130.127373,
     "end_time": "2025-03-02T11:45:24.720689",
     "exception": false,
     "start_time": "2025-03-02T11:43:14.593316",
     "status": "completed"
    },
    "tags": []
   },
   "outputs": [],
   "source": [
    "\n",
    "slang_dict = {\"omg\": \"oh my god\", \"lol\": \"laugh out loud\", \"u\": \"you\", \"r\": \"are\", \"gr8\": \"great\", \"b4\": \"before\", \"asap\": \"as soon as possible\", \"btw\": \"\", \"fyi\": \"for your information\", \"idk\": \"i don't know\", \"imo\": \"in my opinion\", \"jk\": \"just kidding\", \"lmao\": \"laughing my ass off\", \"lmk\": \"let me know\", \"nvm\": \"nevermind\", \"np\": \"no problem\", \"rofl\": \"rolling on the floor laughing\", \"smh\": \"shaking my head\", \"tbh\": \"to be honest\", \"thx\": \"thanks\", \"ty\": \"thank you\", \"wth\": \"what the heck\", \"wtf\": \"what the f***\", \"yolo\": \"you only live once\", \"brb\": \"be right back\", \"gtg\": \"got to go\", \"btw\": \"by the way\", \"ttyl\": \"talk to you later\", \"ily\": \"I love you\", \"g2g\": \"got to go\", \"h8\": \"hate\", \"jk\": \"just kidding\", \"thx\": \"thanks\", \"ttyl\": \"talk to you later\", \"cya\": \"see you\", \"gg\": \"good game\", \"afk\": \"away from keyboard\", \"ez\": \"easy\", \"wb\": \"welcome back\", \"idc\": \"i don't care\", \"rn\": \"right now\", \"lmk\": \"let me know\", \"ikr\": \"i know right\", \"tmi\": \"too much information\", \"smh\": \"shaking my head\", \"w/e\": \"whatever\", \n",
    "                 \"bff\": \"best friends forever\", \"tfw\": \"that feeling when\", \"np\": \"no problem\", \"nvm\": \"nevermind\", \"fyi\": \"for your information\", \"cuz\": \"because\", \"gonna\": \"going to\", \"wanna\": \"want to\", \"gotta\": \"got to\", \"kinda\": \"kind of\", \"sorta\": \"sort of\", \"dunno\": \"don't know\", \"ain't\": \"is not\", \"gimme\": \"give me\", \"lemme\": \"let me\", \"im\": \"I'm\", \"hes\": \"he's\", \"shes\": \"she's\", \"theyre\": \"they're\", \"youre\": \"you're\", \"havent\": \"have not\", \"cant\": \"cannot\",\n",
    "                  \"couldnt\": \"could not\", \"didnt\": \"did not\", \"doesnt\": \"does not\", \"dont\": \"do not\", \"isnt\": \"is not\", \"mightnt\": \"might not\", \"mustnt\": \"must not\", \"shouldnt\": \"should not\", \"wasnt\": \"was not\", \"werent\": \"were not\", \"wouldnt\": \"would not\", \"tho\": \"though\", \"thru\": \"through\", \"nite\": \"night\", \"neva\": \"never\", \"sum\": \"some\", \"dat\": \"that\", \"dis\": \"this\", \"dem\": \"them\", \"dey\": \"they\", \"em\": \"them\", \"whered\": \"where did\", \"whod\": \"who did\", \"whos\": \"who's\", \"yall\": \"you all\", \"dam\": \"damn\", \"hell\": \"hell\", \"pissed\": \"pissed\", \"fck\": \"fuck\", \"fuk\": \"fuck\", \"effing\": \"effing\", \"bs\": \"bullshit\", \"crap\": \"crap\", \"shitty\": \"shitty\", \"wtf\": \"what the fuck\", \"stfu\": \"shut the fuck up\", \"gtfo\": \"get the fuck out\", \"irl\": \"in real life\", \"roflmao\": \"rolling on the floor laughing my ass off\", \"smol\": \"small\", \"big oof\": \"huge mistake\", \"yeet\": \"throw something forcefully\", \"pog\": \"play of the game\", \"sus\": \"suspicious\", \"cap\": \"lie\", \"no cap\": \"no lie\", \"bet\": \"okay\", \"lit\": \"amazing\", \"fr\": \"for real\", \"bruh\": \"bro\", \"fam\": \"family\",\n",
    "                    \"goat\": \"greatest of all time\", \"lowkey\": \"somewhat\", \"highkey\": \"very\", \"vibe\": \"mood\", \"drip\": \"fashionable\", \"slay\": \"do something well\", \"tea\": \"gossip\", \"sksksk\": \"excited reaction\", \"tf\": \"the fuck\", \"fomo\": \"fear of missing out\", \"tldr\": \"too long didn't read\", \"hmu\": \"hit me up\", \"wyd\": \"what you doing\", \"wym\": \"what you mean\", \"wdym\": \"what do you mean\", \"btw\": \"by the way\", \"imo\": \"in my opinion\", \"idc\": \"i don't care\", \n",
    "                  \"idgaf\": \"i don't give a f***\", \"frfr\": \"for real for real\", \"mf\": \"motherfucker\", \"rn\": \"right now\", \"lolz\": \"laughs\", \"hmu\": \"hit me up\", \"hbu\": \"how about you\", \"rn\": \"right now\", \"lmk\": \"let me know\", \"ikr\": \"i know right\", \"jk\": \"just kidding\", \"fr\": \"for real\", \"ffs\": \"for fuck's sake\", \"btw\": \"by the way\", \"nfs\": \"not for sale\", \"dm\": \"direct message\", \"af\": \"as fuck\", \"idk\": \"i don't know\"}\n",
    "\n",
    "\n",
    "def correct_slangs(text, slang_dict):\n",
    "    for slang, replacement in slang_dict.items():\n",
    "        text = re.sub(rf'\\b{slang}\\b', replacement, text)\n",
    "    return text\n",
    "\n",
    "\n",
    "df['review'] = df['review'].apply(lambda x: correct_slangs(x, slang_dict))"
   ]
  },
  {
   "cell_type": "markdown",
   "id": "9e020b8d",
   "metadata": {
    "papermill": {
     "duration": 0.009856,
     "end_time": "2025-03-02T11:45:24.800856",
     "exception": false,
     "start_time": "2025-03-02T11:45:24.791000",
     "status": "completed"
    },
    "tags": []
   },
   "source": [
    "### 1.9  Spelling Correction ###"
   ]
  },
  {
   "cell_type": "code",
   "execution_count": 14,
   "id": "5517f432",
   "metadata": {
    "execution": {
     "iopub.execute_input": "2025-03-02T11:45:24.823761Z",
     "iopub.status.busy": "2025-03-02T11:45:24.823380Z",
     "iopub.status.idle": "2025-03-02T11:45:30.701509Z",
     "shell.execute_reply": "2025-03-02T11:45:30.700453Z"
    },
    "papermill": {
     "duration": 5.891884,
     "end_time": "2025-03-02T11:45:30.703370",
     "exception": false,
     "start_time": "2025-03-02T11:45:24.811486",
     "status": "completed"
    },
    "tags": []
   },
   "outputs": [
    {
     "name": "stderr",
     "output_type": "stream",
     "text": [
      "2025-03-02 11:45:24,835: E symspellpy.symspellpy] Dictionary file not found at frequency_dictionary_en_82_765.txt.\n"
     ]
    }
   ],
   "source": [
    "from symspellpy.symspellpy import SymSpell, Verbosity\n",
    "\n",
    "sym_spell = SymSpell(max_dictionary_edit_distance=2)\n",
    "sym_spell.load_dictionary(\"frequency_dictionary_en_82_765.txt\", term_index=0, count_index=1)\n",
    "\n",
    "def spelling_correct(text):\n",
    "    corrected = []\n",
    "    for word in text.split():\n",
    "        suggestion = sym_spell.lookup(word, Verbosity.CLOSEST, max_edit_distance=2)\n",
    "        corrected.append(suggestion[0].term if suggestion else word)\n",
    "    return \" \".join(corrected)\n",
    "txt = \"awsome job now go on say sth new fck of, omg, whar a tyageedy\"\n",
    "spell_test = spelling_correct(txt)\n",
    "spell_test\n",
    "df['review'] = df['review'].apply(spelling_correct)"
   ]
  },
  {
   "cell_type": "markdown",
   "id": "cd60fdd1",
   "metadata": {
    "papermill": {
     "duration": 0.010422,
     "end_time": "2025-03-02T11:45:30.725117",
     "exception": false,
     "start_time": "2025-03-02T11:45:30.714695",
     "status": "completed"
    },
    "tags": []
   },
   "source": [
    "### 1.10 Sentiment Label Encoding ###"
   ]
  },
  {
   "cell_type": "code",
   "execution_count": 15,
   "id": "60b33cd0",
   "metadata": {
    "execution": {
     "iopub.execute_input": "2025-03-02T11:45:30.746939Z",
     "iopub.status.busy": "2025-03-02T11:45:30.746561Z",
     "iopub.status.idle": "2025-03-02T11:45:30.774361Z",
     "shell.execute_reply": "2025-03-02T11:45:30.773276Z"
    },
    "papermill": {
     "duration": 0.040586,
     "end_time": "2025-03-02T11:45:30.775924",
     "exception": false,
     "start_time": "2025-03-02T11:45:30.735338",
     "status": "completed"
    },
    "tags": []
   },
   "outputs": [],
   "source": [
    "df['sentiment']= df['sentiment'].apply(lambda x: 1 if x == 'positive' else 0)"
   ]
  },
  {
   "cell_type": "markdown",
   "id": "7f3f3d02",
   "metadata": {
    "papermill": {
     "duration": 0.010424,
     "end_time": "2025-03-02T11:45:30.797080",
     "exception": false,
     "start_time": "2025-03-02T11:45:30.786656",
     "status": "completed"
    },
    "tags": []
   },
   "source": [
    "# STEP 2 \n",
    "### Spliting the data into train validation and test ###"
   ]
  },
  {
   "cell_type": "code",
   "execution_count": 16,
   "id": "7e4296ea",
   "metadata": {
    "execution": {
     "iopub.execute_input": "2025-03-02T11:45:30.820525Z",
     "iopub.status.busy": "2025-03-02T11:45:30.820023Z",
     "iopub.status.idle": "2025-03-02T11:45:30.846791Z",
     "shell.execute_reply": "2025-03-02T11:45:30.845698Z"
    },
    "papermill": {
     "duration": 0.040585,
     "end_time": "2025-03-02T11:45:30.848352",
     "exception": false,
     "start_time": "2025-03-02T11:45:30.807767",
     "status": "completed"
    },
    "tags": []
   },
   "outputs": [
    {
     "name": "stderr",
     "output_type": "stream",
     "text": [
      "/usr/local/lib/python3.10/dist-packages/numpy/core/fromnumeric.py:59: FutureWarning: 'DataFrame.swapaxes' is deprecated and will be removed in a future version. Please use 'DataFrame.transpose' instead.\n",
      "  return bound(*args, **kwds)\n"
     ]
    }
   ],
   "source": [
    "train, valid ,test = np.split(df.sample(frac=1), [int(0.7* len(df)), int(0.9* len(df))])\n",
    "\n",
    "def split_data(dataframe):\n",
    "    features = dataframe['review'].values\n",
    "    labels = dataframe['sentiment'].values\n",
    "    return features, labels\n",
    "\n",
    "x_train, y_train = split_data(train)\n",
    "x_valid, y_valid = split_data(valid)\n",
    "x_test, y_test = split_data(test)"
   ]
  },
  {
   "cell_type": "code",
   "execution_count": 17,
   "id": "e1887a33",
   "metadata": {
    "execution": {
     "iopub.execute_input": "2025-03-02T11:45:30.870200Z",
     "iopub.status.busy": "2025-03-02T11:45:30.869825Z",
     "iopub.status.idle": "2025-03-02T11:45:30.876135Z",
     "shell.execute_reply": "2025-03-02T11:45:30.875175Z"
    },
    "papermill": {
     "duration": 0.018877,
     "end_time": "2025-03-02T11:45:30.877645",
     "exception": false,
     "start_time": "2025-03-02T11:45:30.858768",
     "status": "completed"
    },
    "tags": []
   },
   "outputs": [
    {
     "data": {
      "text/plain": [
       "((35000,), (35000,), (10000,), (10000,), (5000,), (5000,))"
      ]
     },
     "execution_count": 17,
     "metadata": {},
     "output_type": "execute_result"
    }
   ],
   "source": [
    "x_train.shape, y_train.shape, x_valid.shape, y_valid.shape, x_test.shape, y_test.shape"
   ]
  },
  {
   "cell_type": "markdown",
   "id": "7550ffd3",
   "metadata": {
    "papermill": {
     "duration": 0.01002,
     "end_time": "2025-03-02T11:45:30.898169",
     "exception": false,
     "start_time": "2025-03-02T11:45:30.888149",
     "status": "completed"
    },
    "tags": []
   },
   "source": [
    "# Step 3 - Step 4\n",
    "### Feature Extraction & Representation and Model Training and Evaluation ###"
   ]
  },
  {
   "cell_type": "markdown",
   "id": "cb365b6c",
   "metadata": {
    "papermill": {
     "duration": 0.010157,
     "end_time": "2025-03-02T11:45:30.918723",
     "exception": false,
     "start_time": "2025-03-02T11:45:30.908566",
     "status": "completed"
    },
    "tags": []
   },
   "source": [
    "# Binary Count Vectorizer (5,000 Features) \n"
   ]
  },
  {
   "cell_type": "markdown",
   "id": "ab60ccae",
   "metadata": {
    "papermill": {
     "duration": 0.010195,
     "end_time": "2025-03-02T11:45:30.939477",
     "exception": false,
     "start_time": "2025-03-02T11:45:30.929282",
     "status": "completed"
    },
    "tags": []
   },
   "source": [
    "### Models (SVM, Logistic Regression, KNN, Random Forests, XGBoost, Multinomial Naive Bayes, XGBoost)###\n",
    "### Binary 50000 ###"
   ]
  },
  {
   "cell_type": "code",
   "execution_count": 18,
   "id": "22d59ff3",
   "metadata": {
    "execution": {
     "iopub.execute_input": "2025-03-02T11:45:30.962484Z",
     "iopub.status.busy": "2025-03-02T11:45:30.962081Z",
     "iopub.status.idle": "2025-03-02T11:45:36.345549Z",
     "shell.execute_reply": "2025-03-02T11:45:36.344357Z"
    },
    "papermill": {
     "duration": 5.396863,
     "end_time": "2025-03-02T11:45:36.347463",
     "exception": false,
     "start_time": "2025-03-02T11:45:30.950600",
     "status": "completed"
    },
    "tags": []
   },
   "outputs": [],
   "source": [
    "v = CountVectorizer(binary=True, lowercase=False, stop_words=None, max_features=5000)\n",
    "x_train_cvb5 = v.fit_transform(x_train)\n",
    "x_valid_cvb5 = v.transform(x_valid)\n",
    "x_test_cvb5 = v.transform(x_test)"
   ]
  },
  {
   "cell_type": "code",
   "execution_count": 19,
   "id": "56637115",
   "metadata": {
    "execution": {
     "iopub.execute_input": "2025-03-02T11:45:36.372346Z",
     "iopub.status.busy": "2025-03-02T11:45:36.371933Z",
     "iopub.status.idle": "2025-03-02T12:28:16.692196Z",
     "shell.execute_reply": "2025-03-02T12:28:16.690785Z"
    },
    "papermill": {
     "duration": 2560.335752,
     "end_time": "2025-03-02T12:28:16.694115",
     "exception": false,
     "start_time": "2025-03-02T11:45:36.358363",
     "status": "completed"
    },
    "tags": []
   },
   "outputs": [
    {
     "name": "stdout",
     "output_type": "stream",
     "text": [
      "SVM - Classification Report:\n",
      "              precision    recall  f1-score   support\n",
      "\n",
      "           0       0.89      0.85      0.87      2493\n",
      "           1       0.86      0.89      0.87      2507\n",
      "\n",
      "    accuracy                           0.87      5000\n",
      "   macro avg       0.87      0.87      0.87      5000\n",
      "weighted avg       0.87      0.87      0.87      5000\n",
      "\n",
      "SVM - Accuracy Score on Training Data: 0.9613142857142857\n",
      "Logistic Regression - Classification Report:\n",
      "              precision    recall  f1-score   support\n",
      "\n",
      "           0       0.87      0.86      0.86      2493\n",
      "           1       0.86      0.87      0.87      2507\n",
      "\n",
      "    accuracy                           0.86      5000\n",
      "   macro avg       0.86      0.86      0.86      5000\n",
      "weighted avg       0.86      0.86      0.86      5000\n",
      "\n",
      "Logistic Regression - Accuracy Score on Training Data: 0.9334857142857143\n",
      "KNN - Classification Report:\n",
      "              precision    recall  f1-score   support\n",
      "\n",
      "           0       0.63      0.61      0.62      2493\n",
      "           1       0.63      0.64      0.63      2507\n",
      "\n",
      "    accuracy                           0.63      5000\n",
      "   macro avg       0.63      0.63      0.63      5000\n",
      "weighted avg       0.63      0.63      0.63      5000\n",
      "\n",
      "KNN - Accuracy Score on Training Data: 0.8154857142857143\n",
      "Random Forest - Classification Report:\n",
      "              precision    recall  f1-score   support\n",
      "\n",
      "           0       0.83      0.85      0.84      2493\n",
      "           1       0.85      0.83      0.84      2507\n",
      "\n",
      "    accuracy                           0.84      5000\n",
      "   macro avg       0.84      0.84      0.84      5000\n",
      "weighted avg       0.84      0.84      0.84      5000\n",
      "\n",
      "Random Forest - Accuracy Score on Training Data: 1.0\n",
      "XGBoost - Classification Report:\n",
      "              precision    recall  f1-score   support\n",
      "\n",
      "           0       0.86      0.83      0.84      2493\n",
      "           1       0.84      0.86      0.85      2507\n",
      "\n",
      "    accuracy                           0.85      5000\n",
      "   macro avg       0.85      0.85      0.85      5000\n",
      "weighted avg       0.85      0.85      0.85      5000\n",
      "\n",
      "XGBoost - Accuracy Score on Training Data: 0.9073714285714286\n",
      "Multinomial Naive Bayes - Classification Report:\n",
      "              precision    recall  f1-score   support\n",
      "\n",
      "           0       0.84      0.85      0.85      2493\n",
      "           1       0.85      0.84      0.85      2507\n",
      "\n",
      "    accuracy                           0.85      5000\n",
      "   macro avg       0.85      0.85      0.85      5000\n",
      "weighted avg       0.85      0.85      0.85      5000\n",
      "\n",
      "Multinomial Naive Bayes - Accuracy Score on Training Data: 0.8558857142857142\n"
     ]
    }
   ],
   "source": [
    "# SVM\n",
    "svcb5 = SVC()\n",
    "svcb5.fit(x_train_cvb5, y_train)\n",
    "svcb5_perd = svcb5.predict(x_test_cvb5)\n",
    "print(\"SVM - Classification Report:\")\n",
    "print(classification_report(y_test, svcb5_perd))\n",
    "print(\"SVM - Accuracy Score on Training Data:\", svcb5.score(x_train_cvb5, y_train))\n",
    "\n",
    "# Logistic Regression\n",
    "lgb5 = LogisticRegression(max_iter=1000)\n",
    "lgb5.fit(x_train_cvb5, y_train)\n",
    "lgb5_perd = lgb5.predict(x_test_cvb5)\n",
    "print(\"Logistic Regression - Classification Report:\")\n",
    "print(classification_report(y_test, lgb5_perd))\n",
    "print(\"Logistic Regression - Accuracy Score on Training Data:\", lgb5.score(x_train_cvb5, y_train))\n",
    "\n",
    "# KNN\n",
    "knnb = KNeighborsClassifier(n_neighbors=3)\n",
    "knnb.fit(x_train_cvb5, y_train)\n",
    "knnb_perd = knnb.predict(x_test_cvb5)\n",
    "print(\"KNN - Classification Report:\")\n",
    "print(classification_report(y_test, knnb_perd))\n",
    "print(\"KNN - Accuracy Score on Training Data:\", knnb.score(x_train_cvb5, y_train))\n",
    "\n",
    "# Random Forest\n",
    "rfb = RandomForestClassifier(n_estimators=100)\n",
    "rfb.fit(x_train_cvb5, y_train)\n",
    "rfb_pred = rfb.predict(x_test_cvb5)\n",
    "print(\"Random Forest - Classification Report:\")\n",
    "print(classification_report(y_test, rfb_pred))\n",
    "print(\"Random Forest - Accuracy Score on Training Data:\", rfb.score(x_train_cvb5, y_train))\n",
    "\n",
    "# XGBoost\n",
    "xgb_model = xgb.XGBClassifier()\n",
    "xgb_model.fit(x_train_cvb5, y_train)\n",
    "xgb_pred = xgb_model.predict(x_test_cvb5)\n",
    "print(\"XGBoost - Classification Report:\")\n",
    "print(classification_report(y_test, xgb_pred))\n",
    "print(\"XGBoost - Accuracy Score on Training Data:\", xgb_model.score(x_train_cvb5, y_train))\n",
    "\n",
    "# Multinomial Naive Bayes\n",
    "nb5 = MultinomialNB()\n",
    "nb5.fit(x_train_cvb5, y_train)\n",
    "nb5_pred = nb5.predict(x_test_cvb5)\n",
    "print(\"Multinomial Naive Bayes - Classification Report:\")\n",
    "print(classification_report(y_test, nb5_pred))\n",
    "print(\"Multinomial Naive Bayes - Accuracy Score on Training Data:\", nb5.score(x_train_cvb5, y_train))\n"
   ]
  },
  {
   "cell_type": "code",
   "execution_count": 20,
   "id": "10cfd209",
   "metadata": {
    "execution": {
     "iopub.execute_input": "2025-03-02T12:28:16.718779Z",
     "iopub.status.busy": "2025-03-02T12:28:16.718428Z",
     "iopub.status.idle": "2025-03-02T12:28:17.712690Z",
     "shell.execute_reply": "2025-03-02T12:28:17.711441Z"
    },
    "papermill": {
     "duration": 1.008963,
     "end_time": "2025-03-02T12:28:17.714921",
     "exception": false,
     "start_time": "2025-03-02T12:28:16.705958",
     "status": "completed"
    },
    "tags": []
   },
   "outputs": [
    {
     "data": {
      "image/png": "[encoded data removed]",
      "text/plain": [
       "<Figure size 1000x600 with 1 Axes>"
      ]
     },
     "metadata": {},
     "output_type": "display_data"
    }
   ],
   "source": [
    "import matplotlib.pyplot as plt\n",
    "import seaborn as sns\n",
    "\n",
    "# Data for models and their training accuracy scores\n",
    "models = [\"SVM\", \"Logistic Regression\", \"KNN\", \"Random Forest\", \"XGBoost\", \"Multinomial Naive Bayes\"]\n",
    "train_scores = [0.9601, 0.9314, 0.7966, 1.0, 0.9086, 0.8552]\n",
    "\n",
    "# Creating a DataFrame\n",
    "df = pd.DataFrame({\"Model\": models, \"Training Accuracy\": train_scores})\n",
    "\n",
    "# Plotting the training accuracy scores\n",
    "plt.figure(figsize=(10, 6))\n",
    "sns.barplot(x=\"Training Accuracy\", y=\"Model\", data=df, palette=\"viridis\")\n",
    "plt.xlabel(\"Training Accuracy Score\")\n",
    "plt.ylabel(\"Model\")\n",
    "plt.title(\"Comparison of Training Accuracy Scores for Different Models\")\n",
    "plt.xlim(0.75, 1.05)\n",
    "plt.show()\n",
    "\n"
   ]
  },
  {
   "cell_type": "markdown",
   "id": "744c178c",
   "metadata": {
    "papermill": {
     "duration": 0.01303,
     "end_time": "2025-03-02T12:28:17.740382",
     "exception": false,
     "start_time": "2025-03-02T12:28:17.727352",
     "status": "completed"
    },
    "tags": []
   },
   "source": [
    "# Binary Count Vectorizer (10,000 Features) \n"
   ]
  },
  {
   "cell_type": "code",
   "execution_count": 21,
   "id": "57db153f",
   "metadata": {
    "execution": {
     "iopub.execute_input": "2025-03-02T12:28:17.767525Z",
     "iopub.status.busy": "2025-03-02T12:28:17.766841Z",
     "iopub.status.idle": "2025-03-02T12:28:23.143785Z",
     "shell.execute_reply": "2025-03-02T12:28:23.142622Z"
    },
    "papermill": {
     "duration": 5.392748,
     "end_time": "2025-03-02T12:28:23.145895",
     "exception": false,
     "start_time": "2025-03-02T12:28:17.753147",
     "status": "completed"
    },
    "tags": []
   },
   "outputs": [],
   "source": [
    "v = CountVectorizer(binary=True, lowercase=False, stop_words=None, token_pattern=r\"(?u)\\b[a-zA-Z]+\\b\", max_features=10000)\n",
    "x_train_cvb = v.fit_transform(x_train)\n",
    "x_valid_cvb = v.transform(x_valid)\n",
    "x_test_cvb = v.transform(x_test)\n"
   ]
  },
  {
   "cell_type": "markdown",
   "id": "dde2972d",
   "metadata": {
    "papermill": {
     "duration": 0.01233,
     "end_time": "2025-03-02T12:28:23.170605",
     "exception": false,
     "start_time": "2025-03-02T12:28:23.158275",
     "status": "completed"
    },
    "tags": []
   },
   "source": [
    "### Models (SVM, Logistic Regression, KNN, Random Forests, XGBoost, Multinomial Naive Bayes, XGBoost) ###\n",
    "### Binary 10000 ###"
   ]
  },
  {
   "cell_type": "code",
   "execution_count": 22,
   "id": "f5f328b4",
   "metadata": {
    "execution": {
     "iopub.execute_input": "2025-03-02T12:28:23.197479Z",
     "iopub.status.busy": "2025-03-02T12:28:23.197074Z",
     "iopub.status.idle": "2025-03-02T13:01:59.262221Z",
     "shell.execute_reply": "2025-03-02T13:01:59.260439Z"
    },
    "papermill": {
     "duration": 2016.082275,
     "end_time": "2025-03-02T13:01:59.264969",
     "exception": false,
     "start_time": "2025-03-02T12:28:23.182694",
     "status": "completed"
    },
    "tags": []
   },
   "outputs": [
    {
     "name": "stdout",
     "output_type": "stream",
     "text": [
      "SVM - Classification Report:\n",
      "              precision    recall  f1-score   support\n",
      "\n",
      "           0       0.88      0.77      0.82      2493\n",
      "           1       0.79      0.90      0.84      2507\n",
      "\n",
      "    accuracy                           0.83      5000\n",
      "   macro avg       0.84      0.83      0.83      5000\n",
      "weighted avg       0.84      0.83      0.83      5000\n",
      "\n",
      "SVM - Accuracy Score on Training Data: 0.8552857142857143\n",
      "Logistic Regression - Classification Report:\n",
      "              precision    recall  f1-score   support\n",
      "\n",
      "           0       0.87      0.85      0.86      2493\n",
      "           1       0.86      0.87      0.86      2507\n",
      "\n",
      "    accuracy                           0.86      5000\n",
      "   macro avg       0.86      0.86      0.86      5000\n",
      "weighted avg       0.86      0.86      0.86      5000\n",
      "\n",
      "Logistic Regression - Accuracy Score on Training Data: 0.9667714285714286\n",
      "KNN - Classification Report:\n",
      "              precision    recall  f1-score   support\n",
      "\n",
      "           0       0.64      0.59      0.61      2493\n",
      "           1       0.62      0.67      0.65      2507\n",
      "\n",
      "    accuracy                           0.63      5000\n",
      "   macro avg       0.63      0.63      0.63      5000\n",
      "weighted avg       0.63      0.63      0.63      5000\n",
      "\n",
      "KNN - Accuracy Score on Training Data: 0.8226571428571429\n",
      "Random Forest - Classification Report:\n",
      "              precision    recall  f1-score   support\n",
      "\n",
      "           0       0.83      0.84      0.84      2493\n",
      "           1       0.84      0.83      0.84      2507\n",
      "\n",
      "    accuracy                           0.84      5000\n",
      "   macro avg       0.84      0.84      0.84      5000\n",
      "weighted avg       0.84      0.84      0.84      5000\n",
      "\n",
      "Random Forest - Accuracy Score on Training Data: 1.0\n",
      "XGBoost - Classification Report:\n",
      "              precision    recall  f1-score   support\n",
      "\n",
      "           0       0.86      0.83      0.84      2493\n",
      "           1       0.83      0.87      0.85      2507\n",
      "\n",
      "    accuracy                           0.85      5000\n",
      "   macro avg       0.85      0.85      0.85      5000\n",
      "weighted avg       0.85      0.85      0.85      5000\n",
      "\n",
      "XGBoost - Accuracy Score on Training Data: 0.9084\n",
      "Multinomial Naive Bayes - Classification Report:\n",
      "              precision    recall  f1-score   support\n",
      "\n",
      "           0       0.83      0.85      0.84      2493\n",
      "           1       0.85      0.83      0.84      2507\n",
      "\n",
      "    accuracy                           0.84      5000\n",
      "   macro avg       0.84      0.84      0.84      5000\n",
      "weighted avg       0.84      0.84      0.84      5000\n",
      "\n",
      "Multinomial Naive Bayes - Accuracy Score on Training Data: 0.8606571428571429\n"
     ]
    }
   ],
   "source": [
    "# SVM\n",
    "svcb = SVC(C=0.1)\n",
    "svcb.fit(x_train_cvb, y_train)\n",
    "svcb_perd = svcb.predict(x_test_cvb)\n",
    "print(\"SVM - Classification Report:\")\n",
    "print(classification_report(y_test, svcb_perd))\n",
    "print(\"SVM - Accuracy Score on Training Data:\", svcb.score(x_train_cvb, y_train))\n",
    "\n",
    "# Logistic Regression\n",
    "lgb = LogisticRegression(max_iter=1000)\n",
    "lgb.fit(x_train_cvb, y_train)\n",
    "lgb_perd = lgb.predict(x_test_cvb)\n",
    "print(\"Logistic Regression - Classification Report:\")\n",
    "print(classification_report(y_test, lgb_perd))\n",
    "print(\"Logistic Regression - Accuracy Score on Training Data:\", lgb.score(x_train_cvb, y_train))\n",
    "\n",
    "# KNN\n",
    "knnb = KNeighborsClassifier(n_neighbors=3)\n",
    "knnb.fit(x_train_cvb, y_train)\n",
    "knnb_perd = knnb.predict(x_test_cvb)\n",
    "print(\"KNN - Classification Report:\")\n",
    "print(classification_report(y_test, knnb_perd))\n",
    "print(\"KNN - Accuracy Score on Training Data:\", knnb.score(x_train_cvb, y_train))\n",
    "\n",
    "# Random Forest\n",
    "rf = RandomForestClassifier(n_estimators=100)\n",
    "rf.fit(x_train_cvb, y_train)\n",
    "rf_pred = rf.predict(x_test_cvb)\n",
    "print(\"Random Forest - Classification Report:\")\n",
    "print(classification_report(y_test, rf_pred))\n",
    "print(\"Random Forest - Accuracy Score on Training Data:\", rf.score(x_train_cvb, y_train))\n",
    "\n",
    "# XGBoost\n",
    "xgb_model = xgb.XGBClassifier()\n",
    "xgb_model.fit(x_train_cvb, y_train)\n",
    "xgb_pred = xgb_model.predict(x_test_cvb)\n",
    "print(\"XGBoost - Classification Report:\")\n",
    "print(classification_report(y_test, xgb_pred))\n",
    "print(\"XGBoost - Accuracy Score on Training Data:\", xgb_model.score(x_train_cvb, y_train))\n",
    "\n",
    "# Multinomial Naive Bayes\n",
    "nb = MultinomialNB()\n",
    "nb.fit(x_train_cvb, y_train)\n",
    "nb_pred = nb.predict(x_test_cvb)\n",
    "print(\"Multinomial Naive Bayes - Classification Report:\")\n",
    "print(classification_report(y_test, nb_pred))\n",
    "print(\"Multinomial Naive Bayes - Accuracy Score on Training Data:\", nb.score(x_train_cvb, y_train))\n"
   ]
  },
  {
   "cell_type": "markdown",
   "id": "24758c43",
   "metadata": {
    "papermill": {
     "duration": 0.012527,
     "end_time": "2025-03-02T13:01:59.290936",
     "exception": false,
     "start_time": "2025-03-02T13:01:59.278409",
     "status": "completed"
    },
    "tags": []
   },
   "source": [
    "# Non-Binary Count Vectorizer (10,000 Features) \n"
   ]
  },
  {
   "cell_type": "code",
   "execution_count": 23,
   "id": "b6ca59cf",
   "metadata": {
    "execution": {
     "iopub.execute_input": "2025-03-02T13:01:59.318674Z",
     "iopub.status.busy": "2025-03-02T13:01:59.318228Z",
     "iopub.status.idle": "2025-03-02T13:02:04.896755Z",
     "shell.execute_reply": "2025-03-02T13:02:04.895619Z"
    },
    "papermill": {
     "duration": 5.594778,
     "end_time": "2025-03-02T13:02:04.898817",
     "exception": false,
     "start_time": "2025-03-02T13:01:59.304039",
     "status": "completed"
    },
    "tags": []
   },
   "outputs": [],
   "source": [
    "v = CountVectorizer(binary=False, lowercase=False, stop_words='english', token_pattern=r\"(?u)\\b[a-zA-Z]+\\b\", max_features=10000)\n",
    "x_train_cv = v.fit_transform(x_train)\n",
    "x_valid_cv = v.transform(x_valid)\n",
    "x_test_cv = v.transform(x_test)"
   ]
  },
  {
   "cell_type": "markdown",
   "id": "645a5757",
   "metadata": {
    "papermill": {
     "duration": 0.01238,
     "end_time": "2025-03-02T13:02:04.924112",
     "exception": false,
     "start_time": "2025-03-02T13:02:04.911732",
     "status": "completed"
    },
    "tags": []
   },
   "source": [
    "### Models (SVM, Logistic Regression, KNN, Random Forests, XGBoost, Multinomial Naive Bayes, XGBoost)###\n",
    "### Non-Binary 10000 ###"
   ]
  },
  {
   "cell_type": "code",
   "execution_count": 24,
   "id": "07796088",
   "metadata": {
    "execution": {
     "iopub.execute_input": "2025-03-02T13:02:04.950855Z",
     "iopub.status.busy": "2025-03-02T13:02:04.950521Z",
     "iopub.status.idle": "2025-03-02T13:42:56.218548Z",
     "shell.execute_reply": "2025-03-02T13:42:56.215762Z"
    },
    "papermill": {
     "duration": 2451.286011,
     "end_time": "2025-03-02T13:42:56.222811",
     "exception": false,
     "start_time": "2025-03-02T13:02:04.936800",
     "status": "completed"
    },
    "tags": []
   },
   "outputs": [
    {
     "name": "stdout",
     "output_type": "stream",
     "text": [
      "SVM - Classification Report:\n",
      "              precision    recall  f1-score   support\n",
      "\n",
      "           0       0.89      0.84      0.86      2493\n",
      "           1       0.85      0.90      0.87      2507\n",
      "\n",
      "    accuracy                           0.87      5000\n",
      "   macro avg       0.87      0.87      0.87      5000\n",
      "weighted avg       0.87      0.87      0.87      5000\n",
      "\n",
      "SVM - Accuracy Score on Training Data: 0.9508571428571428\n",
      "Logistic Regression - Classification Report:\n",
      "              precision    recall  f1-score   support\n",
      "\n",
      "           0       0.87      0.86      0.86      2493\n",
      "           1       0.86      0.87      0.86      2507\n",
      "\n",
      "    accuracy                           0.86      5000\n",
      "   macro avg       0.86      0.86      0.86      5000\n",
      "weighted avg       0.86      0.86      0.86      5000\n",
      "\n",
      "Logistic Regression - Accuracy Score on Training Data: 0.9721142857142857\n",
      "KNN - Classification Report:\n",
      "              precision    recall  f1-score   support\n",
      "\n",
      "           0       0.65      0.63      0.64      2493\n",
      "           1       0.65      0.67      0.66      2507\n",
      "\n",
      "    accuracy                           0.65      5000\n",
      "   macro avg       0.65      0.65      0.65      5000\n",
      "weighted avg       0.65      0.65      0.65      5000\n",
      "\n",
      "KNN - Accuracy Score on Training Data: 0.7677714285714285\n",
      "Random Forest - Classification Report:\n",
      "              precision    recall  f1-score   support\n",
      "\n",
      "           0       0.83      0.85      0.84      2493\n",
      "           1       0.84      0.82      0.83      2507\n",
      "\n",
      "    accuracy                           0.83      5000\n",
      "   macro avg       0.83      0.83      0.83      5000\n",
      "weighted avg       0.83      0.83      0.83      5000\n",
      "\n",
      "Random Forest - Accuracy Score on Training Data: 1.0\n",
      "XGBoost - Classification Report:\n",
      "              precision    recall  f1-score   support\n",
      "\n",
      "           0       0.86      0.83      0.84      2493\n",
      "           1       0.83      0.87      0.85      2507\n",
      "\n",
      "    accuracy                           0.85      5000\n",
      "   macro avg       0.85      0.85      0.85      5000\n",
      "weighted avg       0.85      0.85      0.85      5000\n",
      "\n",
      "XGBoost - Accuracy Score on Training Data: 0.9132285714285714\n",
      "Multinomial Naive Bayes - Classification Report:\n",
      "              precision    recall  f1-score   support\n",
      "\n",
      "           0       0.83      0.86      0.84      2493\n",
      "           1       0.85      0.82      0.84      2507\n",
      "\n",
      "    accuracy                           0.84      5000\n",
      "   macro avg       0.84      0.84      0.84      5000\n",
      "weighted avg       0.84      0.84      0.84      5000\n",
      "\n",
      "Multinomial Naive Bayes - Accuracy Score on Training Data: 0.8584857142857143\n"
     ]
    }
   ],
   "source": [
    "# SVM\n",
    "svc = SVC()\n",
    "svc.fit(x_train_cv, y_train)\n",
    "svc_perd = svc.predict(x_test_cv)\n",
    "print(\"SVM - Classification Report:\")\n",
    "print(classification_report(y_test, svc_perd))\n",
    "print(\"SVM - Accuracy Score on Training Data:\", svc.score(x_train_cv, y_train))\n",
    "\n",
    "# Logistic Regression\n",
    "lg = LogisticRegression(max_iter=1000, n_jobs=-1)\n",
    "lg.fit(x_train_cv, y_train)\n",
    "lg_perd = lg.predict(x_test_cv)\n",
    "print(\"Logistic Regression - Classification Report:\")\n",
    "print(classification_report(y_test, lg_perd))\n",
    "print(\"Logistic Regression - Accuracy Score on Training Data:\", lg.score(x_train_cv, y_train))\n",
    "\n",
    "# KNN\n",
    "knn = KNeighborsClassifier(n_neighbors=5)\n",
    "knn.fit(x_train_cv, y_train)\n",
    "knn_perd = knn.predict(x_test_cv)\n",
    "print(\"KNN - Classification Report:\")\n",
    "print(classification_report(y_test, knn_perd))\n",
    "print(\"KNN - Accuracy Score on Training Data:\", knn.score(x_train_cv, y_train))\n",
    "\n",
    "# Random Forest\n",
    "rfbig = RandomForestClassifier(n_estimators=50)\n",
    "rfbig.fit(x_train_cv, y_train)\n",
    "rfbig_pred = rfbig.predict(x_test_cv)\n",
    "print(\"Random Forest - Classification Report:\")\n",
    "print(classification_report(y_test, rfbig_pred))\n",
    "print(\"Random Forest - Accuracy Score on Training Data:\", rfbig.score(x_train_cv, y_train))\n",
    "\n",
    "# XGBoost\n",
    "import xgboost as xgb\n",
    "xgb_model = xgb.XGBClassifier()\n",
    "xgb_model.fit(x_train_cv, y_train)\n",
    "xgb_pred = xgb_model.predict(x_test_cv)\n",
    "print(\"XGBoost - Classification Report:\")\n",
    "print(classification_report(y_test, xgb_pred))\n",
    "print(\"XGBoost - Accuracy Score on Training Data:\", xgb_model.score(x_train_cv, y_train))\n",
    "\n",
    "# Multinomial Naive Bayes\n",
    "nb = MultinomialNB()\n",
    "nb.fit(x_train_cv, y_train)\n",
    "nb_pred = nb.predict(x_test_cv)\n",
    "print(\"Multinomial Naive Bayes - Classification Report:\")\n",
    "print(classification_report(y_test, nb_pred))\n",
    "print(\"Multinomial Naive Bayes - Accuracy Score on Training Data:\", nb.score(x_train_cv, y_train))\n"
   ]
  },
  {
   "cell_type": "markdown",
   "id": "a9d7a93c",
   "metadata": {
    "papermill": {
     "duration": 0.013737,
     "end_time": "2025-03-02T13:42:56.251758",
     "exception": false,
     "start_time": "2025-03-02T13:42:56.238021",
     "status": "completed"
    },
    "tags": []
   },
   "source": [
    "# Non-Binary Count Vectorizer (5,000 Features) \n"
   ]
  },
  {
   "cell_type": "code",
   "execution_count": 25,
   "id": "041b3b80",
   "metadata": {
    "execution": {
     "iopub.execute_input": "2025-03-02T13:42:56.281956Z",
     "iopub.status.busy": "2025-03-02T13:42:56.281447Z",
     "iopub.status.idle": "2025-03-02T13:43:02.151410Z",
     "shell.execute_reply": "2025-03-02T13:43:02.150349Z"
    },
    "papermill": {
     "duration": 5.888513,
     "end_time": "2025-03-02T13:43:02.153717",
     "exception": false,
     "start_time": "2025-03-02T13:42:56.265204",
     "status": "completed"
    },
    "tags": []
   },
   "outputs": [],
   "source": [
    "v = CountVectorizer(binary=False, lowercase=False, stop_words='english', max_features=5000)\n",
    "x_train_5 = v.fit_transform(x_train)\n",
    "x_valid_5 = v.transform(x_valid)\n",
    "x_test_5 = v.transform(x_test)"
   ]
  },
  {
   "cell_type": "markdown",
   "id": "7e936683",
   "metadata": {
    "papermill": {
     "duration": 0.014015,
     "end_time": "2025-03-02T13:43:02.183765",
     "exception": false,
     "start_time": "2025-03-02T13:43:02.169750",
     "status": "completed"
    },
    "tags": []
   },
   "source": [
    "### Models (SVM, Logistic Regression, KNN, Random Forests, XGBoost, Multinomial Naive Bayes, XGBoost)###\n",
    "### Non-Binary 5000 ###"
   ]
  },
  {
   "cell_type": "code",
   "execution_count": 26,
   "id": "d1e96c38",
   "metadata": {
    "execution": {
     "iopub.execute_input": "2025-03-02T13:43:02.212891Z",
     "iopub.status.busy": "2025-03-02T13:43:02.212502Z",
     "iopub.status.idle": "2025-03-02T14:20:42.660020Z",
     "shell.execute_reply": "2025-03-02T14:20:42.658003Z"
    },
    "papermill": {
     "duration": 2260.464556,
     "end_time": "2025-03-02T14:20:42.662104",
     "exception": false,
     "start_time": "2025-03-02T13:43:02.197548",
     "status": "completed"
    },
    "tags": []
   },
   "outputs": [
    {
     "name": "stdout",
     "output_type": "stream",
     "text": [
      "SVM - Classification Report:\n",
      "              precision    recall  f1-score   support\n",
      "\n",
      "           0       0.89      0.84      0.86      2493\n",
      "           1       0.85      0.90      0.87      2507\n",
      "\n",
      "    accuracy                           0.87      5000\n",
      "   macro avg       0.87      0.87      0.87      5000\n",
      "weighted avg       0.87      0.87      0.87      5000\n",
      "\n",
      "SVM - Accuracy Score on Training Data: 0.9479428571428572\n",
      "Logistic Regression - Classification Report:\n",
      "              precision    recall  f1-score   support\n",
      "\n",
      "           0       0.87      0.86      0.86      2493\n",
      "           1       0.86      0.87      0.87      2507\n",
      "\n",
      "    accuracy                           0.86      5000\n",
      "   macro avg       0.86      0.86      0.86      5000\n",
      "weighted avg       0.86      0.86      0.86      5000\n",
      "\n",
      "Logistic Regression - Accuracy Score on Training Data: 0.9351428571428572\n",
      "KNN - Classification Report:\n",
      "              precision    recall  f1-score   support\n",
      "\n",
      "           0       0.64      0.59      0.62      2493\n",
      "           1       0.62      0.67      0.64      2507\n",
      "\n",
      "    accuracy                           0.63      5000\n",
      "   macro avg       0.63      0.63      0.63      5000\n",
      "weighted avg       0.63      0.63      0.63      5000\n",
      "\n",
      "KNN - Accuracy Score on Training Data: 0.8008857142857143\n",
      "Random Forest - Classification Report:\n",
      "              precision    recall  f1-score   support\n",
      "\n",
      "           0       0.83      0.84      0.84      2493\n",
      "           1       0.84      0.83      0.83      2507\n",
      "\n",
      "    accuracy                           0.84      5000\n",
      "   macro avg       0.84      0.84      0.84      5000\n",
      "weighted avg       0.84      0.84      0.84      5000\n",
      "\n",
      "Random Forest - Accuracy Score on Training Data: 1.0\n",
      "XGBoost - Classification Report:\n",
      "              precision    recall  f1-score   support\n",
      "\n",
      "           0       0.87      0.83      0.85      2493\n",
      "           1       0.83      0.88      0.86      2507\n",
      "\n",
      "    accuracy                           0.85      5000\n",
      "   macro avg       0.85      0.85      0.85      5000\n",
      "weighted avg       0.85      0.85      0.85      5000\n",
      "\n",
      "XGBoost - Accuracy Score on Training Data: 0.9131714285714285\n",
      "Multinomial Naive Bayes - Classification Report:\n",
      "              precision    recall  f1-score   support\n",
      "\n",
      "           0       0.83      0.84      0.84      2493\n",
      "           1       0.84      0.83      0.84      2507\n",
      "\n",
      "    accuracy                           0.84      5000\n",
      "   macro avg       0.84      0.84      0.84      5000\n",
      "weighted avg       0.84      0.84      0.84      5000\n",
      "\n",
      "Multinomial Naive Bayes - Accuracy Score on Training Data: 0.8514\n"
     ]
    }
   ],
   "source": [
    "# SVM\n",
    "svc5 = SVC()\n",
    "svc5.fit(x_train_5, y_train)\n",
    "svc5_perd = svc5.predict(x_test_5)\n",
    "print(\"SVM - Classification Report:\")\n",
    "print(classification_report(y_test, svc5_perd))\n",
    "print(\"SVM - Accuracy Score on Training Data:\", svc5.score(x_train_5, y_train))\n",
    "\n",
    "# Logistic Regression\n",
    "lgb5 = LogisticRegression(max_iter=1000, n_jobs=-1)\n",
    "lgb5.fit(x_train_5, y_train)\n",
    "lgb5_perd = lgb5.predict(x_test_5)\n",
    "print(\"Logistic Regression - Classification Report:\")\n",
    "print(classification_report(y_test, lgb5_perd))\n",
    "print(\"Logistic Regression - Accuracy Score on Training Data:\", lgb5.score(x_train_5, y_train))\n",
    "\n",
    "# KNN\n",
    "knnb = KNeighborsClassifier(n_neighbors=3)\n",
    "knnb.fit(x_train_5, y_train)\n",
    "knnb_perd = knnb.predict(x_test_5)\n",
    "print(\"KNN - Classification Report:\")\n",
    "print(classification_report(y_test, knnb_perd))\n",
    "print(\"KNN - Accuracy Score on Training Data:\", knnb.score(x_train_5, y_train))\n",
    "\n",
    "# Random Forest\n",
    "rfb = RandomForestClassifier(n_estimators=100)\n",
    "rfb.fit(x_train_5, y_train)\n",
    "rfb_pred = rfb.predict(x_test_5)\n",
    "print(\"Random Forest - Classification Report:\")\n",
    "print(classification_report(y_test, rfb_pred))\n",
    "print(\"Random Forest - Accuracy Score on Training Data:\", rfb.score(x_train_5, y_train))\n",
    "\n",
    "# XGBoost\n",
    "xgb_model = xgb.XGBClassifier()\n",
    "xgb_model.fit(x_train_5, y_train)\n",
    "xgb_pred = xgb_model.predict(x_test_5)\n",
    "print(\"XGBoost - Classification Report:\")\n",
    "print(classification_report(y_test, xgb_pred))\n",
    "print(\"XGBoost - Accuracy Score on Training Data:\", xgb_model.score(x_train_5, y_train))\n",
    "\n",
    "# Multinomial Naive Bayes\n",
    "nb5 = MultinomialNB()\n",
    "nb5.fit(x_train_5, y_train)\n",
    "nb5_pred = nb5.predict(x_test_5)\n",
    "print(\"Multinomial Naive Bayes - Classification Report:\")\n",
    "print(classification_report(y_test, nb5_pred))\n",
    "print(\"Multinomial Naive Bayes - Accuracy Score on Training Data:\", nb5.score(x_train_5, y_train))\n"
   ]
  },
  {
   "cell_type": "markdown",
   "id": "d4cd5cfb",
   "metadata": {
    "papermill": {
     "duration": 0.013596,
     "end_time": "2025-03-02T14:20:42.690293",
     "exception": false,
     "start_time": "2025-03-02T14:20:42.676697",
     "status": "completed"
    },
    "tags": []
   },
   "source": [
    "# Bigram Vectorizer (2-gram model, 10,000 Features) \n"
   ]
  },
  {
   "cell_type": "code",
   "execution_count": 27,
   "id": "ac2203ef",
   "metadata": {
    "execution": {
     "iopub.execute_input": "2025-03-02T14:20:42.720346Z",
     "iopub.status.busy": "2025-03-02T14:20:42.719836Z",
     "iopub.status.idle": "2025-03-02T14:21:03.208911Z",
     "shell.execute_reply": "2025-03-02T14:21:03.207681Z"
    },
    "papermill": {
     "duration": 20.506613,
     "end_time": "2025-03-02T14:21:03.211004",
     "exception": false,
     "start_time": "2025-03-02T14:20:42.704391",
     "status": "completed"
    },
    "tags": []
   },
   "outputs": [],
   "source": [
    "bigram_vectorizer = CountVectorizer(ngram_range=(2, 2), max_features=10000)\n",
    "x_train_big = bigram_vectorizer.fit_transform(x_train)\n",
    "x_valid_big = bigram_vectorizer.transform(x_valid)\n",
    "x_test_big = bigram_vectorizer.transform(x_test)"
   ]
  },
  {
   "cell_type": "markdown",
   "id": "d28332a6",
   "metadata": {
    "papermill": {
     "duration": 0.013835,
     "end_time": "2025-03-02T14:21:03.239291",
     "exception": false,
     "start_time": "2025-03-02T14:21:03.225456",
     "status": "completed"
    },
    "tags": []
   },
   "source": [
    "### Models (SVM, Logistic Regression, KNN, Random Forests, XGBoost, Multinomial Naive Bayes, XGBoost)###\n",
    "### Bigram 10000 ###"
   ]
  },
  {
   "cell_type": "code",
   "execution_count": 28,
   "id": "04812bef",
   "metadata": {
    "execution": {
     "iopub.execute_input": "2025-03-02T14:21:03.269602Z",
     "iopub.status.busy": "2025-03-02T14:21:03.269142Z",
     "iopub.status.idle": "2025-03-02T14:40:11.208553Z",
     "shell.execute_reply": "2025-03-02T14:40:11.207141Z"
    },
    "papermill": {
     "duration": 1147.956702,
     "end_time": "2025-03-02T14:40:11.210720",
     "exception": false,
     "start_time": "2025-03-02T14:21:03.254018",
     "status": "completed"
    },
    "tags": []
   },
   "outputs": [
    {
     "name": "stdout",
     "output_type": "stream",
     "text": [
      "SVM - Classification Report:\n",
      "              precision    recall  f1-score   support\n",
      "\n",
      "           0       0.82      0.76      0.79      2493\n",
      "           1       0.78      0.84      0.81      2507\n",
      "\n",
      "    accuracy                           0.80      5000\n",
      "   macro avg       0.80      0.80      0.80      5000\n",
      "weighted avg       0.80      0.80      0.80      5000\n",
      "\n",
      "SVM - Accuracy Score on Training Data: 0.9463428571428572\n",
      "Logistic Regression - Classification Report:\n",
      "              precision    recall  f1-score   support\n",
      "\n",
      "           0       0.80      0.78      0.79      2493\n",
      "           1       0.78      0.81      0.79      2507\n",
      "\n",
      "    accuracy                           0.79      5000\n",
      "   macro avg       0.79      0.79      0.79      5000\n",
      "weighted avg       0.79      0.79      0.79      5000\n",
      "\n",
      "Logistic Regression - Accuracy Score on Training Data: 0.9254\n",
      "KNN - Classification Report:\n",
      "              precision    recall  f1-score   support\n",
      "\n",
      "           0       0.53      0.84      0.65      2493\n",
      "           1       0.61      0.24      0.35      2507\n",
      "\n",
      "    accuracy                           0.54      5000\n",
      "   macro avg       0.57      0.54      0.50      5000\n",
      "weighted avg       0.57      0.54      0.50      5000\n",
      "\n",
      "KNN - Accuracy Score on Training Data: 0.7148285714285715\n",
      "Random Forest - Classification Report:\n",
      "              precision    recall  f1-score   support\n",
      "\n",
      "           0       0.73      0.79      0.76      2493\n",
      "           1       0.77      0.71      0.74      2507\n",
      "\n",
      "    accuracy                           0.75      5000\n",
      "   macro avg       0.75      0.75      0.75      5000\n",
      "weighted avg       0.75      0.75      0.75      5000\n",
      "\n",
      "Random Forest - Accuracy Score on Training Data: 0.9991714285714286\n",
      "XGBoost - Classification Report:\n",
      "              precision    recall  f1-score   support\n",
      "\n",
      "           0       0.82      0.62      0.71      2493\n",
      "           1       0.70      0.86      0.77      2507\n",
      "\n",
      "    accuracy                           0.74      5000\n",
      "   macro avg       0.76      0.74      0.74      5000\n",
      "weighted avg       0.76      0.74      0.74      5000\n",
      "\n",
      "XGBoost - Accuracy Score on Training Data: 0.7778\n",
      "Multinomial Naive Bayes - Classification Report:\n",
      "              precision    recall  f1-score   support\n",
      "\n",
      "           0       0.82      0.79      0.80      2493\n",
      "           1       0.80      0.83      0.81      2507\n",
      "\n",
      "    accuracy                           0.81      5000\n",
      "   macro avg       0.81      0.81      0.81      5000\n",
      "weighted avg       0.81      0.81      0.81      5000\n",
      "\n",
      "Multinomial Naive Bayes - Accuracy Score on Training Data: 0.8552857142857143\n"
     ]
    }
   ],
   "source": [
    "# SVM\n",
    "svcbig = SVC()\n",
    "svcbig.fit(x_train_big, y_train)\n",
    "svcbig_perd = svcbig.predict(x_test_big)\n",
    "print(\"SVM - Classification Report:\")\n",
    "print(classification_report(y_test, svcbig_perd))\n",
    "print(\"SVM - Accuracy Score on Training Data:\", svcbig.score(x_train_big, y_train))\n",
    "\n",
    "# Logistic Regression\n",
    "lgbig = LogisticRegression(max_iter=1000, n_jobs=-1)\n",
    "lgbig.fit(x_train_big, y_train)\n",
    "lgbig_perd = lgbig.predict(x_test_big)\n",
    "print(\"Logistic Regression - Classification Report:\")\n",
    "print(classification_report(y_test, lgbig_perd))\n",
    "print(\"Logistic Regression - Accuracy Score on Training Data:\", lgbig.score(x_train_big, y_train))\n",
    "\n",
    "# KNN\n",
    "knnbig = KNeighborsClassifier(n_neighbors=3)\n",
    "knnbig.fit(x_train_big, y_train)\n",
    "knnbig_perd = knnbig.predict(x_test_big)\n",
    "print(\"KNN - Classification Report:\")\n",
    "print(classification_report(y_test, knnbig_perd))\n",
    "print(\"KNN - Accuracy Score on Training Data:\", knnbig.score(x_train_big, y_train))\n",
    "\n",
    "# Random Forest\n",
    "rfbig = RandomForestClassifier(n_estimators=85)\n",
    "rfbig.fit(x_train_big, y_train)\n",
    "rfbig_pred = rfbig.predict(x_test_big)\n",
    "print(\"Random Forest - Classification Report:\")\n",
    "print(classification_report(y_test, rfbig_pred))\n",
    "print(\"Random Forest - Accuracy Score on Training Data:\", rfbig.score(x_train_big, y_train))\n",
    "\n",
    "# XGBoost\n",
    "xgb_model = xgb.XGBClassifier()\n",
    "xgb_model.fit(x_train_big, y_train)\n",
    "xgb_pred = xgb_model.predict(x_test_big)\n",
    "print(\"XGBoost - Classification Report:\")\n",
    "print(classification_report(y_test, xgb_pred))\n",
    "print(\"XGBoost - Accuracy Score on Training Data:\", xgb_model.score(x_train_big, y_train))\n",
    "\n",
    "# Multinomial Naive Bayes\n",
    "nbbig = MultinomialNB()\n",
    "nbbig.fit(x_train_big, y_train)\n",
    "nbbig_pred = nbbig.predict(x_test_big)\n",
    "print(\"Multinomial Naive Bayes - Classification Report:\")\n",
    "print(classification_report(y_test, nbbig_pred))\n",
    "print(\"Multinomial Naive Bayes - Accuracy Score on Training Data:\", nbbig.score(x_train_big, y_train))\n"
   ]
  },
  {
   "cell_type": "markdown",
   "id": "5aa56bbc",
   "metadata": {
    "papermill": {
     "duration": 0.016142,
     "end_time": "2025-03-02T14:40:11.241793",
     "exception": false,
     "start_time": "2025-03-02T14:40:11.225651",
     "status": "completed"
    },
    "tags": []
   },
   "source": [
    "# STEP 3: Using the TF-IDF Vectorizer"
   ]
  },
  {
   "cell_type": "markdown",
   "id": "9b33bcaa",
   "metadata": {
    "papermill": {
     "duration": 0.019836,
     "end_time": "2025-03-02T14:40:11.283614",
     "exception": false,
     "start_time": "2025-03-02T14:40:11.263778",
     "status": "completed"
    },
    "tags": []
   },
   "source": [
    "###  Binary Tfidf 5000 ###"
   ]
  },
  {
   "cell_type": "code",
   "execution_count": 29,
   "id": "53eac6eb",
   "metadata": {
    "execution": {
     "iopub.execute_input": "2025-03-02T14:40:11.323349Z",
     "iopub.status.busy": "2025-03-02T14:40:11.322823Z",
     "iopub.status.idle": "2025-03-02T14:40:16.955893Z",
     "shell.execute_reply": "2025-03-02T14:40:16.954558Z"
    },
    "papermill": {
     "duration": 5.654649,
     "end_time": "2025-03-02T14:40:16.957940",
     "exception": false,
     "start_time": "2025-03-02T14:40:11.303291",
     "status": "completed"
    },
    "tags": []
   },
   "outputs": [],
   "source": [
    "\n",
    "tfidfb = TfidfVectorizer(binary=True, lowercase=False, stop_words=None, max_features=5000)\n",
    "x_train_tfidfb = tfidfb.fit_transform(x_train)\n",
    "x_valid_tfidfb = tfidfb.transform(x_valid)\n",
    "x_test_tfidfb = tfidfb.transform(x_test)\n"
   ]
  },
  {
   "cell_type": "markdown",
   "id": "b772b869",
   "metadata": {
    "papermill": {
     "duration": 0.015056,
     "end_time": "2025-03-02T14:40:16.987901",
     "exception": false,
     "start_time": "2025-03-02T14:40:16.972845",
     "status": "completed"
    },
    "tags": []
   },
   "source": [
    "### svm ###"
   ]
  },
  {
   "cell_type": "code",
   "execution_count": 30,
   "id": "7a7035c3",
   "metadata": {
    "execution": {
     "iopub.execute_input": "2025-03-02T14:40:17.019111Z",
     "iopub.status.busy": "2025-03-02T14:40:17.018719Z",
     "iopub.status.idle": "2025-03-02T15:22:19.770125Z",
     "shell.execute_reply": "2025-03-02T15:22:19.767478Z"
    },
    "papermill": {
     "duration": 2522.782559,
     "end_time": "2025-03-02T15:22:19.785692",
     "exception": false,
     "start_time": "2025-03-02T14:40:17.003133",
     "status": "completed"
    },
    "tags": []
   },
   "outputs": [
    {
     "name": "stdout",
     "output_type": "stream",
     "text": [
      "Validation Set - Classification Report:\n",
      "              precision    recall  f1-score   support\n",
      "\n",
      "           0       0.89      0.87      0.88      4971\n",
      "           1       0.88      0.89      0.88      5029\n",
      "\n",
      "    accuracy                           0.88     10000\n",
      "   macro avg       0.88      0.88      0.88     10000\n",
      "weighted avg       0.88      0.88      0.88     10000\n",
      "\n",
      "Test Set - Classification Report:\n",
      "              precision    recall  f1-score   support\n",
      "\n",
      "           0       0.89      0.87      0.88      2493\n",
      "           1       0.87      0.89      0.88      2507\n",
      "\n",
      "    accuracy                           0.88      5000\n",
      "   macro avg       0.88      0.88      0.88      5000\n",
      "weighted avg       0.88      0.88      0.88      5000\n",
      "\n",
      "Training Set Accuracy: 0.9812\n"
     ]
    }
   ],
   "source": [
    "svc_tfidfb = SVC()\n",
    "svc_tfidfb.fit(x_train_tfidfb, y_train)\n",
    "\n",
    "\n",
    "y_valid_pred = svc_tfidfb.predict(x_valid_tfidfb)\n",
    "y_test_pred = svc_tfidfb.predict(x_test_tfidfb)\n",
    "\n",
    "\n",
    "print(\"Validation Set - Classification Report:\")\n",
    "print(classification_report(y_valid, y_valid_pred))\n",
    "\n",
    "print(\"Test Set - Classification Report:\")\n",
    "print(classification_report(y_test, y_test_pred))\n",
    "\n",
    "print(\"Training Set Accuracy:\", svc_tfidfb.score(x_train_tfidfb, y_train))\n"
   ]
  },
  {
   "cell_type": "markdown",
   "id": "d8026138",
   "metadata": {
    "papermill": {
     "duration": 0.015611,
     "end_time": "2025-03-02T15:22:19.816450",
     "exception": false,
     "start_time": "2025-03-02T15:22:19.800839",
     "status": "completed"
    },
    "tags": []
   },
   "source": [
    "### Non-Binary Tfidf 5000 ###"
   ]
  },
  {
   "cell_type": "code",
   "execution_count": 31,
   "id": "efad8ea4",
   "metadata": {
    "execution": {
     "iopub.execute_input": "2025-03-02T15:22:19.849343Z",
     "iopub.status.busy": "2025-03-02T15:22:19.848871Z",
     "iopub.status.idle": "2025-03-02T15:22:25.800323Z",
     "shell.execute_reply": "2025-03-02T15:22:25.798922Z"
    },
    "papermill": {
     "duration": 5.970121,
     "end_time": "2025-03-02T15:22:25.802227",
     "exception": false,
     "start_time": "2025-03-02T15:22:19.832106",
     "status": "completed"
    },
    "tags": []
   },
   "outputs": [],
   "source": [
    "tfidf = TfidfVectorizer(binary=False, lowercase=False, stop_words=None, max_features=5000)\n",
    "x_train_tfidf = tfidf.fit_transform(x_train)\n",
    "x_valid_tfidf = tfidf.transform(x_valid)\n",
    "x_test_tfidf = tfidf.transform(x_test)\n"
   ]
  },
  {
   "cell_type": "markdown",
   "id": "c9c4eff7",
   "metadata": {
    "papermill": {
     "duration": 0.01557,
     "end_time": "2025-03-02T15:22:25.834513",
     "exception": false,
     "start_time": "2025-03-02T15:22:25.818943",
     "status": "completed"
    },
    "tags": []
   },
   "source": [
    "### SVM ###"
   ]
  },
  {
   "cell_type": "code",
   "execution_count": 32,
   "id": "244d693a",
   "metadata": {
    "execution": {
     "iopub.execute_input": "2025-03-02T15:22:25.866298Z",
     "iopub.status.busy": "2025-03-02T15:22:25.865896Z",
     "iopub.status.idle": "2025-03-02T16:03:27.983413Z",
     "shell.execute_reply": "2025-03-02T16:03:27.980837Z"
    },
    "papermill": {
     "duration": 2462.15863,
     "end_time": "2025-03-02T16:03:28.008184",
     "exception": false,
     "start_time": "2025-03-02T15:22:25.849554",
     "status": "completed"
    },
    "tags": []
   },
   "outputs": [
    {
     "name": "stdout",
     "output_type": "stream",
     "text": [
      "Validation Set - Classification Report:\n",
      "              precision    recall  f1-score   support\n",
      "\n",
      "           0       0.89      0.88      0.89      4971\n",
      "           1       0.88      0.90      0.89      5029\n",
      "\n",
      "    accuracy                           0.89     10000\n",
      "   macro avg       0.89      0.89      0.89     10000\n",
      "weighted avg       0.89      0.89      0.89     10000\n",
      "\n",
      "Test Set - Classification Report:\n",
      "              precision    recall  f1-score   support\n",
      "\n",
      "           0       0.89      0.87      0.88      2493\n",
      "           1       0.87      0.89      0.88      2507\n",
      "\n",
      "    accuracy                           0.88      5000\n",
      "   macro avg       0.88      0.88      0.88      5000\n",
      "weighted avg       0.88      0.88      0.88      5000\n",
      "\n",
      "Training Set Accuracy: 0.9803714285714286\n"
     ]
    }
   ],
   "source": [
    "\n",
    "svc_tfidf = SVC()\n",
    "svc_tfidf.fit(x_train_tfidf, y_train)\n",
    "\n",
    "y_valid_pred = svc_tfidf.predict(x_valid_tfidf)\n",
    "y_test_pred = svc_tfidf.predict(x_test_tfidf)\n",
    "\n",
    "print(\"Validation Set - Classification Report:\")\n",
    "print(classification_report(y_valid, y_valid_pred))\n",
    "\n",
    "print(\"Test Set - Classification Report:\")\n",
    "print(classification_report(y_test, y_test_pred))\n",
    "\n",
    "print(\"Training Set Accuracy:\", svc_tfidf.score(x_train_tfidf, y_train))\n"
   ]
  },
  {
   "cell_type": "code",
   "execution_count": null,
   "id": "4cefdd07",
   "metadata": {
    "papermill": {
     "duration": 0.016157,
     "end_time": "2025-03-02T16:03:28.041999",
     "exception": false,
     "start_time": "2025-03-02T16:03:28.025842",
     "status": "completed"
    },
    "tags": []
   },
   "outputs": [],
   "source": []
  },
  {
   "cell_type": "markdown",
   "id": "73875ba7",
   "metadata": {
    "papermill": {
     "duration": 0.01615,
     "end_time": "2025-03-02T16:03:28.073850",
     "exception": false,
     "start_time": "2025-03-02T16:03:28.057700",
     "status": "completed"
    },
    "tags": []
   },
   "source": []
  },
  {
   "cell_type": "code",
   "execution_count": null,
   "id": "ac0a5256",
   "metadata": {
    "papermill": {
     "duration": 0.015733,
     "end_time": "2025-03-02T16:03:28.104747",
     "exception": false,
     "start_time": "2025-03-02T16:03:28.089014",
     "status": "completed"
    },
    "tags": []
   },
   "outputs": [],
   "source": []
  },
  {
   "cell_type": "code",
   "execution_count": null,
   "id": "64ee66a4",
   "metadata": {
    "papermill": {
     "duration": 0.015054,
     "end_time": "2025-03-02T16:03:28.135860",
     "exception": false,
     "start_time": "2025-03-02T16:03:28.120806",
     "status": "completed"
    },
    "tags": []
   },
   "outputs": [],
   "source": []
  },
  {
   "cell_type": "code",
   "execution_count": null,
   "id": "97eabaad",
   "metadata": {
    "papermill": {
     "duration": 0.015213,
     "end_time": "2025-03-02T16:03:28.166979",
     "exception": false,
     "start_time": "2025-03-02T16:03:28.151766",
     "status": "completed"
    },
    "tags": []
   },
   "outputs": [],
   "source": []
  }
 ],
 "metadata": {
  "kaggle": {
   "accelerator": "none",
   "dataSources": [
    {
     "datasetId": 134715,
     "sourceId": 320111,
     "sourceType": "datasetVersion"
    }
   ],
   "dockerImageVersionId": 30918,
   "isGpuEnabled": false,
   "isInternetEnabled": true,
   "language": "python",
   "sourceType": "notebook"
  },
  "kernelspec": {
   "display_name": "Python 3",
   "language": "python",
   "name": "python3"
  },
  "language_info": {
   "codemirror_mode": {
    "name": "ipython",
    "version": 3
   },
   "file_extension": ".py",
   "mimetype": "text/x-python",
   "name": "python",
   "nbconvert_exporter": "python",
   "pygments_lexer": "ipython3",
   "version": "3.10.12"
  },
  "papermill": {
   "default_parameters": {},
   "duration": 18578.960107,
   "end_time": "2025-03-02T16:03:30.995211",
   "environment_variables": {},
   "exception": null,
   "input_path": "__notebook__.ipynb",
   "output_path": "__notebook__.ipynb",
   "parameters": {},
   "start_time": "2025-03-02T10:53:52.035104",
   "version": "2.6.0"
  }
 },
 "nbformat": 4,
 "nbformat_minor": 5
}
